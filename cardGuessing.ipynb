#Guess who got the card
#shuffle cards
cards=['heart','dice','spades','clubs']
from random import shuffle
#shuffle does not work without a function
def shuffle_cards(cards):
    shuffle(cards)
    return cards
#guess which player has the card
cards=['heart','dice','spades','clubs']
pcards=input("pick a card: ")
if pcards=="heart"or pcards=="spades" or pcards=="clubs" or pcards=="dice":
    print(f'picked {pcards} successfully')
else:
    print("invalid")

num=['1','2','3','4']
num=input("Chose Player Number: ")
if num=='1'or num=='2'or num=='3'or num=='4':
    print(f'Lets check if player {num} has the {pcards} or not')
else:
    print("invalid")
shuffle_result=shuffle_cards(cards)
shuffle_result
print("player 1 got",shuffle_result[0])
print("player 2 got",shuffle_result[1])
print("player 3 got",shuffle_result[2])
print("player 4 got",shuffle_result[3])
show_result=shuffle_result.index('spades')
show_result=show_result+1
show_result
print(f' Player {show_result} got the card')
guessed_player=int(num)
guessed_player
print(f'Guessed player number was {guessed_player}')
if show_result == guessed_player:
    print(f'Correct Guess, Player {num} has {pcards}')

else:
    print("Wrong Guess")